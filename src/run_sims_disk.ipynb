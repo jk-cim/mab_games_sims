{
 "cells": [
  {
   "cell_type": "code",
   "execution_count": 1,
   "metadata": {
    "collapsed": false
   },
   "outputs": [],
   "source": [
    "import itertools\n",
    "import math\n",
    "import pickle\n",
    "import time\n",
    "\n",
    "from simulation import simulate\n",
    "from algs import *\n",
    "from payoff import *\n",
    "from plotting import *\n",
    "from util import *\n",
    "\n",
    "import toyplot as tp"
   ]
  },
  {
   "cell_type": "code",
   "execution_count": 2,
   "metadata": {
    "collapsed": true
   },
   "outputs": [],
   "source": [
    "steps = 2000\n",
    "narms = 2\n",
    "nsims = 4\n",
    "\n",
    "strategies = [ucb]\n",
    "nagents = [2000, 500, 100, 50]\n",
    "lifespans = [5, 20, 50, 200]"
   ]
  },
  {
   "cell_type": "markdown",
   "metadata": {},
   "source": [
    "# Negative externalities\n",
    "\n",
    "$$ Q(\\theta, f) = \\frac{\\theta}{1+Lf}$$"
   ]
  },
  {
   "cell_type": "code",
   "execution_count": 3,
   "metadata": {
    "collapsed": false
   },
   "outputs": [],
   "source": [
    "def neg_ext(Ls, strategies, lifespans, nagents, steps=2000):\n",
    "    t_start = time.time()\n",
    "    \n",
    "    size_cross = len(Ls) * len(strategies) * len(lifespans) * len(nagents)\n",
    "    print(\"Starting {} simulations\".format(size_cross))\n",
    "\n",
    "    for itr, (L, strategy, lifespan, nagent) in enumerate(itertools.product(Ls, strategies, lifespans, nagents)):\n",
    "        config = {\"k\": narms, \n",
    "                  \"types\": [(3, 1), (1, 3)],\n",
    "                  \"nagents\": nagent, \n",
    "                  \"beta\": lifespan_to_beta(lifespan), \n",
    "                  \"strategy\": strategy, \n",
    "                  \"payoff\": create_neg_externatilities(L)}\n",
    "\n",
    "        fname = \"neg_ext_L{}_S{}_A{}_K{}_LS{}\".format(int(10*L),\n",
    "                                                      config[\"strategy\"].__name__, \n",
    "                                                      config[\"nagents\"], \n",
    "                                                      config[\"k\"], \n",
    "                                                      lifespan)\n",
    "\n",
    "        outcome = [simulate(config, steps) for _ in range(nsims)]\n",
    "        dump(outcome, fname)\n",
    "\n",
    "        if itr % max(40, int(size_cross / 10)+1):\n",
    "            progress(itr, size_cross, t_start)\n",
    "\n",
    "    print(\"Total time: {:.2f} seconds\".format(time.time() - t_start))"
   ]
  },
  {
   "cell_type": "code",
   "execution_count": 4,
   "metadata": {
    "collapsed": false
   },
   "outputs": [
    {
     "name": "stdout",
     "output_type": "stream",
     "text": [
      "Starting 5 simulations\n",
      "\t  40.0% \t 372.42s \t 558.63s\n",
      "\t  60.0% \t 555.21s \t 370.14s\n",
      "\t  80.0% \t 734.05s \t 183.51s\n",
      "\t 100.0% \t 920.11s \t  0.00s\n",
      "Total time: 920.11 seconds\n"
     ]
    }
   ],
   "source": [
    "# Figure 1\n",
    "neg_ext([0.2, 1, 3, 7, 20], [ucb], [50], [2000], steps)"
   ]
  },
  {
   "cell_type": "code",
   "execution_count": 5,
   "metadata": {
    "collapsed": false
   },
   "outputs": [
    {
     "name": "stdout",
     "output_type": "stream",
     "text": [
      "Starting 4 simulations\n",
      "\t  50.0% \t 259.10s \t 259.10s\n",
      "\t  75.0% \t 268.23s \t 89.41s\n",
      "\t 100.0% \t 273.32s \t  0.00s\n",
      "Total time: 273.32 seconds\n"
     ]
    }
   ],
   "source": [
    "# Figure 2\n",
    "neg_ext([20], [ucb], [200], nagents, steps)"
   ]
  },
  {
   "cell_type": "markdown",
   "metadata": {},
   "source": [
    "# Positive externalities"
   ]
  },
  {
   "cell_type": "code",
   "execution_count": 6,
   "metadata": {
    "collapsed": false
   },
   "outputs": [],
   "source": [
    "def pos_ext(strategies, nagents, lifespans, steps=2000):\n",
    "    size_cross = len(strategies) * len(nagents) * len(lifespans)\n",
    "    t_start = time.time()\n",
    "    print(\"Starting {} simulations\".format(size_cross))\n",
    "\n",
    "    for itr, (strategy, nagent, lifespan) in enumerate(itertools.product(strategies, nagents, lifespans)):\n",
    "        config = {\"k\": narms, \n",
    "                  \"types\": [(1, 1), (1, 1)],\n",
    "                  \"nagents\": nagent, \n",
    "                  \"beta\": lifespan_to_beta(lifespan), \n",
    "                  \"strategy\": strategy, \n",
    "                  \"payoff\": pos_externalities}\n",
    "\n",
    "        fname = \"pos_ext_S{}_A{}_K{}_LS{}\".format(config[\"strategy\"].__name__, \n",
    "                                                    config[\"nagents\"], \n",
    "                                                    config[\"k\"], \n",
    "                                                    lifespan)\n",
    "\n",
    "        outcome = [simulate(config, steps) for _ in range(nsims)]\n",
    "        dump(outcome, fname)\n",
    "\n",
    "        if itr % max(40, int(size_cross / 10)+1):\n",
    "            progress(itr, size_cross, t_start)\n",
    "\n",
    "    print(\"Total time: {:.2f} seconds\".format(time.time() - t_start))"
   ]
  },
  {
   "cell_type": "code",
   "execution_count": 7,
   "metadata": {
    "collapsed": false
   },
   "outputs": [
    {
     "name": "stdout",
     "output_type": "stream",
     "text": [
      "Starting 8 simulations\n",
      "\t  25.0% \t 349.44s \t 1048.31s\n",
      "\t  37.5% \t 390.02s \t 650.03s\n",
      "\t  50.0% \t 431.96s \t 431.96s\n",
      "\t  62.5% \t 440.80s \t 264.48s\n",
      "\t  75.0% \t 450.12s \t 150.04s\n",
      "\t  87.5% \t 454.30s \t 64.90s\n",
      "\t 100.0% \t 458.75s \t  0.00s\n",
      "Total time: 458.75 seconds\n"
     ]
    }
   ],
   "source": [
    "# Figure 3 and 4\n",
    "pos_ext([ucb], nagents, [10, 200], steps)"
   ]
  },
  {
   "cell_type": "markdown",
   "metadata": {},
   "source": [
    "# Coordination game"
   ]
  },
  {
   "cell_type": "code",
   "execution_count": 9,
   "metadata": {
    "collapsed": false
   },
   "outputs": [],
   "source": [
    "def coord_game(gammas, strategies, nagents, lifespans):\n",
    "    size_cross = len(gammas) * len(strategies) * len(nagents) * len(lifespans)\n",
    "    t_start = time.time()\n",
    "    print(\"Starting {} simulations\".format(size_cross))\n",
    "\n",
    "    for itr, (gamma, strategy, nagent, lifespan) in enumerate(itertools.product(gammas, strategies, nagents, lifespans)):\n",
    "        config = {\"k\": narms, \n",
    "                  \"types\": [(1, 1), (1, 1)],\n",
    "                  \"nagents\": nagent, \n",
    "                  \"beta\": lifespan_to_beta(lifespan), \n",
    "                  \"strategy\": strategy, \n",
    "                  \"payoff\": create_coord_game(gamma)}\n",
    "\n",
    "        fname = \"coordgame_G{}_S{}_A{}_K{}_LS{}\".format(int(gamma*100),\n",
    "                                                      config[\"strategy\"].__name__, \n",
    "                                                      config[\"nagents\"], \n",
    "                                                      config[\"k\"], \n",
    "                                                      lifespan)\n",
    "\n",
    "        outcome = [simulate(config, steps) for _ in range(nsims)]\n",
    "        dump(outcome, fname)\n",
    "\n",
    "        if itr % max(40, int(size_cross / 10)+1):\n",
    "            progress(itr, size_cross, t_start)\n",
    "\n",
    "    print(\"Total time: {:.2f} seconds\".format(time.time() - t_start))"
   ]
  },
  {
   "cell_type": "code",
   "execution_count": 10,
   "metadata": {
    "collapsed": false
   },
   "outputs": [
    {
     "name": "stdout",
     "output_type": "stream",
     "text": [
      "Starting 4 simulations\n",
      "\t  50.0% \t 338.38s \t 338.38s\n",
      "\t  75.0% \t 510.66s \t 170.22s\n",
      "\t 100.0% \t 686.23s \t  0.00s\n",
      "Total time: 686.23 seconds\n"
     ]
    }
   ],
   "source": [
    "# Figure 5\n",
    "coord_game([0.5], [ucb], [2000], lifespans)"
   ]
  }
 ],
 "metadata": {
  "kernelspec": {
   "display_name": "Python 3",
   "language": "python",
   "name": "python3"
  },
  "language_info": {
   "codemirror_mode": {
    "name": "ipython",
    "version": 3
   },
   "file_extension": ".py",
   "mimetype": "text/x-python",
   "name": "python",
   "nbconvert_exporter": "python",
   "pygments_lexer": "ipython3",
   "version": "3.5.2"
  }
 },
 "nbformat": 4,
 "nbformat_minor": 0
}
