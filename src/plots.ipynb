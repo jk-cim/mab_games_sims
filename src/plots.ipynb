{
 "cells": [
  {
   "cell_type": "code",
   "execution_count": null,
   "metadata": {
    "collapsed": true
   },
   "outputs": [],
   "source": [
    "from plotting import *\n",
    "from util import *\n",
    "\n",
    "import toyplot as tp\n",
    "\n",
    "from toyplot.pdf import render"
   ]
  },
  {
   "cell_type": "code",
   "execution_count": null,
   "metadata": {
    "collapsed": true
   },
   "outputs": [],
   "source": [
    "WIDTH, HEIGHT = 900, 500\n",
    "FRAC = 0.05\n",
    "OPACITY_POINTS = 0.10\n",
    "\n",
    "PLOT_TITLE = \"Evolution of the population profile\"\n",
    "XLABEL = \"time period\"\n",
    "YLABEL = \"% agents choosing arm 1\""
   ]
  },
  {
   "cell_type": "code",
   "execution_count": null,
   "metadata": {
    "collapsed": true
   },
   "outputs": [],
   "source": [
    "def create_axes(canvas, **kwargs):\n",
    "    axes = canvas.cartesian(**kwargs)\n",
    "    axes.x.ticks.show = True\n",
    "    axes.y.ticks.show = True\n",
    "    return axes\n",
    "\n",
    "def plot_outcomes(outcomes, axes, opacity, frac):\n",
    "    for o in outcomes:\n",
    "        scatter_evo_population(o, axes, opacity=opacity)\n",
    "        \n",
    "    for o in outcomes:\n",
    "        plot_evo_population(o, axes, frac)    "
   ]
  },
  {
   "cell_type": "markdown",
   "metadata": {},
   "source": [
    "# Positive externalties with long lifespans"
   ]
  },
  {
   "cell_type": "code",
   "execution_count": null,
   "metadata": {
    "collapsed": false
   },
   "outputs": [],
   "source": [
    "canvas = tp.Canvas(WIDTH, HEIGHT)\n",
    "\n",
    "for i, a in enumerate([50, 100, 500, 2000]):\n",
    "    outcomes = loads(\"pos_ext_Sucb_A{}_K2_LS200\".format(a))\n",
    "    axes = create_axes(canvas, grid=(2,2,i), ymin=0, ymax=1, \n",
    "                            label=\"{} ({} agents)\".format(PLOT_TITLE, a), \n",
    "                            xlabel=XLABEL, ylabel=YLABEL)\n",
    "\n",
    "    plot_outcomes(outcomes, axes, OPACITY_POINTS, FRAC)"
   ]
  },
  {
   "cell_type": "code",
   "execution_count": null,
   "metadata": {
    "collapsed": true
   },
   "outputs": [],
   "source": [
    "render(canvas, \"plots/pos_ext_long.pdf\")"
   ]
  },
  {
   "cell_type": "markdown",
   "metadata": {},
   "source": [
    "# Positive externalties with short lifespans"
   ]
  },
  {
   "cell_type": "code",
   "execution_count": null,
   "metadata": {
    "collapsed": false
   },
   "outputs": [],
   "source": [
    "canvas = tp.Canvas(WIDTH, HEIGHT)\n",
    "\n",
    "for i, a in enumerate([50, 100, 500, 2000]):\n",
    "    outcomes = loads(\"pos_ext_Sucb_A{}_K2_LS10\".format(a))\n",
    "    axes = create_axes(canvas, grid=(2,2,i), ymin=0, ymax=1, \n",
    "                            label=\"{} ({} agents)\".format(PLOT_TITLE, a), \n",
    "                            xlabel=XLABEL, ylabel=YLABEL)\n",
    "    \n",
    "    plot_outcomes(outcomes, axes, OPACITY_POINTS, FRAC)"
   ]
  },
  {
   "cell_type": "code",
   "execution_count": null,
   "metadata": {
    "collapsed": true
   },
   "outputs": [],
   "source": [
    "render(canvas, \"plots/pos_ext_short.pdf\")"
   ]
  },
  {
   "cell_type": "markdown",
   "metadata": {},
   "source": [
    "# Coordination game"
   ]
  },
  {
   "cell_type": "markdown",
   "metadata": {},
   "source": [
    "##### $\\gamma = 0.5$"
   ]
  },
  {
   "cell_type": "code",
   "execution_count": null,
   "metadata": {
    "collapsed": false
   },
   "outputs": [],
   "source": [
    "canvas = tp.Canvas(WIDTH, HEIGHT)\n",
    "\n",
    "for i, ls in enumerate([5, 20, 50, 200]):\n",
    "    outcomes = loads(\"coordgame_G50.0_Sucb_A2000_K2_LS{}\".format(ls))\n",
    "    axes = create_axes(canvas, grid=(2,2,i), ymin=0, ymax=1, \n",
    "                            label=\"{} (T = {})\".format(PLOT_TITLE, ls), \n",
    "                            xlabel=XLABEL, ylabel=YLABEL)\n",
    "\n",
    "    plot_outcomes(outcomes, axes, OPACITY_POINTS, FRAC)"
   ]
  },
  {
   "cell_type": "code",
   "execution_count": null,
   "metadata": {
    "collapsed": true
   },
   "outputs": [],
   "source": [
    "render(canvas, \"plots/coord_game_g50.pdf\")"
   ]
  },
  {
   "cell_type": "markdown",
   "metadata": {},
   "source": [
    "# Negative externalities"
   ]
  },
  {
   "cell_type": "code",
   "execution_count": null,
   "metadata": {
    "collapsed": false
   },
   "outputs": [],
   "source": [
    "canvas = tp.Canvas(WIDTH, HEIGHT)\n",
    "\n",
    "for i, l in enumerate([2, 30, 70, 200]):\n",
    "    outcomes = loads(\"neg_ext_L{}_Sucb_A2000_K2_LS50\".format(l))\n",
    "    axes = create_axes(canvas, grid=(2,2,i), ymin=0, ymax=1, \n",
    "                            label=\"{} (L = {})\".format(PLOT_TITLE, l/10), \n",
    "                            xlabel=XLABEL, ylabel=YLABEL)\n",
    "    \n",
    "    plot_outcomes(outcomes, axes, OPACITY_POINTS, FRAC)"
   ]
  },
  {
   "cell_type": "code",
   "execution_count": null,
   "metadata": {
    "collapsed": true
   },
   "outputs": [],
   "source": [
    "render(canvas, \"plots/neg_ext_ls50.pdf\")"
   ]
  },
  {
   "cell_type": "code",
   "execution_count": null,
   "metadata": {
    "collapsed": false
   },
   "outputs": [],
   "source": [
    "canvas = tp.Canvas(WIDTH, HEIGHT)\n",
    "\n",
    "for i, a in enumerate([50, 100, 500, 2000]):\n",
    "    outcomes = loads(\"neg_ext_L200_Sucb_A{}_K2_LS200\".format(a))\n",
    "    axes = create_axes(canvas, grid=(2,2,i), ymin=0, ymax=1, \n",
    "                            label=\"{} ({} agents)\".format(PLOT_TITLE, a), \n",
    "                            xlabel=XLABEL, ylabel=YLABEL)\n",
    "    \n",
    "    plot_outcomes(outcomes, axes, OPACITY_POINTS, FRAC)"
   ]
  },
  {
   "cell_type": "code",
   "execution_count": null,
   "metadata": {
    "collapsed": true
   },
   "outputs": [],
   "source": [
    "render(canvas, \"plots/neg_ext_L20.pdf\")"
   ]
  }
 ],
 "metadata": {
  "kernelspec": {
   "display_name": "Python 3",
   "language": "python",
   "name": "python3"
  },
  "language_info": {
   "codemirror_mode": {
    "name": "ipython",
    "version": 3
   },
   "file_extension": ".py",
   "mimetype": "text/x-python",
   "name": "python",
   "nbconvert_exporter": "python",
   "pygments_lexer": "ipython3",
   "version": "3.5.2"
  }
 },
 "nbformat": 4,
 "nbformat_minor": 0
}
