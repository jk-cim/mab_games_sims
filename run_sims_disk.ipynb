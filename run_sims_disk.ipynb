{
 "cells": [
  {
   "cell_type": "code",
   "execution_count": 1,
   "metadata": {
    "collapsed": false
   },
   "outputs": [],
   "source": [
    "import itertools\n",
    "import math\n",
    "import pickle\n",
    "import time\n",
    "\n",
    "from simulation import simulate\n",
    "from algs import *\n",
    "from payoff import *\n",
    "from plotting import *\n",
    "from util import *\n",
    "\n",
    "import toyplot as tp"
   ]
  },
  {
   "cell_type": "code",
   "execution_count": 3,
   "metadata": {
    "collapsed": true
   },
   "outputs": [],
   "source": [
    "steps = 2000\n",
    "narms = 2\n",
    "nsims = 4\n",
    "\n",
    "strategies = [ucb]\n",
    "nagents = [2000, 500, 200]\n",
    "lifespans = [5, 10, 20, 50, 200]"
   ]
  },
  {
   "cell_type": "markdown",
   "metadata": {},
   "source": [
    "# Linear-Linear positive:\n",
    "\n",
    "\n",
    "$$ Q(\\theta, f) = \\frac{\\theta + f}{2} $$"
   ]
  },
  {
   "cell_type": "code",
   "execution_count": null,
   "metadata": {
    "collapsed": false,
    "scrolled": false
   },
   "outputs": [],
   "source": [
    "size_cross = len(strategies) * len(nagents) * len(lifespans)\n",
    "t_start = time.time()\n",
    "print(\"Starting {} simulations\".format(size_cross))\n",
    "\n",
    "for itr, (strategy, nagent, lifespan) in enumerate(itertools.product(strategies, nagents, lifespans)):\n",
    "    config = {\"k\": narms, \n",
    "              \"types\": [(1, 1), (1, 1)],\n",
    "              \"nagents\": nagent, \n",
    "              \"beta\": lifespan_to_beta(lifespan), \n",
    "              \"strategy\": strategy, \n",
    "              \"payoff\": linear_linear_pos}\n",
    "\n",
    "    fname = \"linlin_pos_S{}_A{}_K{}_LS{}\".format(config[\"strategy\"].__name__, \n",
    "                                                config[\"nagents\"], \n",
    "                                                config[\"k\"], \n",
    "                                                lifespan)\n",
    "\n",
    "    outcome = [simulate(config, steps) for _ in range(nsims)]\n",
    "    dump(outcome, fname)\n",
    "    \n",
    "    if itr % max(40, int(size_cross / 10)+1):\n",
    "        progress(itr, size_cross, t_start)\n",
    "\n",
    "print(\"Total time: {:.2f} seconds\".format(time.time() - t_start))"
   ]
  },
  {
   "cell_type": "markdown",
   "metadata": {},
   "source": [
    "# Negative externalities"
   ]
  },
  {
   "cell_type": "code",
   "execution_count": null,
   "metadata": {
    "collapsed": true
   },
   "outputs": [],
   "source": [
    "Ls = [0.2, 1, 3, 7, 20]"
   ]
  },
  {
   "cell_type": "code",
   "execution_count": null,
   "metadata": {
    "collapsed": false
   },
   "outputs": [],
   "source": [
    "size_cross = len(Ls) * len(strategies) * len(lifespans)\n",
    "steps = 200\n",
    "t_start = time.time()\n",
    "print(\"Starting {} simulations\".format(size_cross))\n",
    "\n",
    "nagent = 2000\n",
    "for itr, (L, strategy, lifespan) in enumerate(itertools.product(Ls, strategies, lifespans)):\n",
    "    config = {\"k\": narms, \n",
    "              \"types\": [(3, 1), (1, 3)],\n",
    "              \"nagents\": nagent, \n",
    "              \"beta\": lifespan_to_beta(lifespan), \n",
    "              \"strategy\": strategy, \n",
    "              \"payoff\": create_neg_externatilities(L)}\n",
    "\n",
    "    fname = \"neg_ext_L{}_S{}_A{}_K{}_LS{}\".format(int(10*L),\n",
    "                                                  config[\"strategy\"].__name__, \n",
    "                                                  config[\"nagents\"], \n",
    "                                                  config[\"k\"], \n",
    "                                                  lifespan)\n",
    "\n",
    "    outcome = [simulate(config, steps) for _ in range(nsims)]\n",
    "    dump(outcome, fname)\n",
    "    \n",
    "    if itr % max(40, int(size_cross / 10)+1):\n",
    "        progress(itr, size_cross, t_start)\n",
    "\n",
    "print(\"Total time: {:.2f} seconds\".format(time.time() - t_start))"
   ]
  },
  {
   "cell_type": "markdown",
   "metadata": {},
   "source": [
    "# Positive externalities"
   ]
  },
  {
   "cell_type": "code",
   "execution_count": null,
   "metadata": {
    "collapsed": false
   },
   "outputs": [],
   "source": [
    "size_cross = len(strategies) * len(nagents) * len(lifespans)\n",
    "t_start = time.time()\n",
    "print(\"Starting {} simulations\".format(size_cross))\n",
    "\n",
    "for itr, (strategy, nagent, lifespan) in enumerate(itertools.product(strategies, nagents, lifespans)):\n",
    "    config = {\"k\": narms, \n",
    "              \"types\": [(1, 1), (1, 1)],\n",
    "              \"nagents\": nagent, \n",
    "              \"beta\": lifespan_to_beta(lifespan), \n",
    "              \"strategy\": strategy, \n",
    "              \"payoff\": pos_externalities}\n",
    "\n",
    "    fname = \"pos_ext_S{}_A{}_K{}_LS{}\".format(config[\"strategy\"].__name__, \n",
    "                                                config[\"nagents\"], \n",
    "                                                config[\"k\"], \n",
    "                                                lifespan)\n",
    "\n",
    "    outcome = [simulate(config, steps) for _ in range(nsims)]\n",
    "    dump(outcome, fname)\n",
    "    \n",
    "    if itr % max(40, int(size_cross / 10)+1):\n",
    "        progress(itr, size_cross, t_start)\n",
    "\n",
    "print(\"Total time: {:.2f} seconds\".format(time.time() - t_start))"
   ]
  },
  {
   "cell_type": "markdown",
   "metadata": {},
   "source": [
    "# Coordination game"
   ]
  },
  {
   "cell_type": "code",
   "execution_count": null,
   "metadata": {
    "collapsed": true
   },
   "outputs": [],
   "source": [
    "gammas = [0, 0.1, 0.5, 0.8]"
   ]
  },
  {
   "cell_type": "code",
   "execution_count": null,
   "metadata": {
    "collapsed": false
   },
   "outputs": [],
   "source": [
    "size_cross = len(gammas) * len(strategies) * len(nagents) * len(lifespans)\n",
    "t_start = time.time()\n",
    "print(\"Starting {} simulations\".format(size_cross))\n",
    "\n",
    "for itr, (gamma, strategy, nagent, lifespan) in enumerate(itertools.product(gammas, strategies, nagents, lifespans)):\n",
    "    config = {\"k\": narms, \n",
    "              \"types\": [(1, 1), (1, 1)],\n",
    "              \"nagents\": nagent, \n",
    "              \"beta\": lifespan_to_beta(lifespan), \n",
    "              \"strategy\": strategy, \n",
    "              \"payoff\": create_coord_game(gamma)}\n",
    "\n",
    "    fname = \"coordgame_G{}_S{}_A{}_K{}_LS{}\".format(int(gamma*100),\n",
    "                                                  config[\"strategy\"].__name__, \n",
    "                                                  config[\"nagents\"], \n",
    "                                                  config[\"k\"], \n",
    "                                                  lifespan)\n",
    "\n",
    "    outcome = [simulate(config, steps) for _ in range(nsims)]\n",
    "    dump(outcome, fname)\n",
    "    \n",
    "    if itr % max(40, int(size_cross / 10)+1):\n",
    "        progress(itr, size_cross, t_start)\n",
    "\n",
    "print(\"Total time: {:.2f} seconds\".format(time.time() - t_start))"
   ]
  },
  {
   "cell_type": "markdown",
   "metadata": {
    "collapsed": true
   },
   "source": [
    "# Positive failure"
   ]
  },
  {
   "cell_type": "code",
   "execution_count": 4,
   "metadata": {
    "collapsed": true
   },
   "outputs": [],
   "source": [
    "steps = 2000\n",
    "narms = 2\n",
    "nsims = 4\n",
    "\n",
    "strategies = [ucb]\n",
    "nagents = [2000]\n",
    "lifespans = [7, 20, 80, 200]\n",
    "\n",
    "gammas = [0.05, 0.2, 0.5]"
   ]
  },
  {
   "cell_type": "code",
   "execution_count": 5,
   "metadata": {
    "collapsed": false
   },
   "outputs": [
    {
     "data": {
      "text/plain": [
       "[(7, 0.05, 0.9000000000000001),\n",
       " (20, 0.05, 0.9974999999999999),\n",
       " (80, 0.05, 1.036875),\n",
       " (200, 0.05, 1.04475),\n",
       " (7, 0.2, 1.0285714285714287),\n",
       " (20, 0.2, 1.14),\n",
       " (80, 0.2, 1.185),\n",
       " (200, 0.2, 1.194),\n",
       " (7, 0.5, 1.2857142857142858),\n",
       " (20, 0.5, 1.4249999999999998),\n",
       " (80, 0.5, 1.4812500000000002),\n",
       " (200, 0.5, 1.4925)]"
      ]
     },
     "execution_count": 5,
     "metadata": {},
     "output_type": "execute_result"
    }
   ],
   "source": [
    "[(l, g, (1-1/l) * (1+g)) for g in gammas for l in lifespans]"
   ]
  },
  {
   "cell_type": "code",
   "execution_count": 6,
   "metadata": {
    "collapsed": false
   },
   "outputs": [
    {
     "name": "stdout",
     "output_type": "stream",
     "text": [
      "Starting 12 simulations\n",
      "\t  16.7% \t 359.60s \t 1797.99s\n",
      "\t  25.0% \t 545.54s \t 1636.63s\n",
      "\t  33.3% \t 728.76s \t 1457.52s\n",
      "\t  41.7% \t 892.36s \t 1249.30s\n",
      "\t  50.0% \t 1061.48s \t 1061.48s\n",
      "\t  58.3% \t 1229.34s \t 878.10s\n",
      "\t  66.7% \t 1399.07s \t 699.53s\n",
      "\t  75.0% \t 1575.07s \t 525.02s\n",
      "\t  83.3% \t 1772.53s \t 354.51s\n",
      "\t  91.7% \t 1974.04s \t 179.46s\n",
      "\t 100.0% \t 2173.73s \t  0.00s\n",
      "Total time: 2173.73 seconds\n"
     ]
    }
   ],
   "source": [
    "size_cross = len(gammas) * len(strategies) * len(nagents) * len(lifespans)\n",
    "t_start = time.time()\n",
    "print(\"Starting {} simulations\".format(size_cross))\n",
    "\n",
    "for itr, (gamma, strategy, nagent, lifespan) in enumerate(itertools.product(gammas, strategies, nagents, lifespans)):\n",
    "    config = {\"k\": narms, \n",
    "              \"types\": [(1, 1), (1, 1)],\n",
    "              \"nagents\": nagent, \n",
    "              \"beta\": lifespan_to_beta(lifespan), \n",
    "              \"strategy\": strategy, \n",
    "              \"payoff\": create_pop_only(gamma)}\n",
    "\n",
    "    fname = \"pop_only_G{}_S{}_A{}_K{}_LS{}\".format(int(gamma*100),\n",
    "                                                  config[\"strategy\"].__name__, \n",
    "                                                  config[\"nagents\"], \n",
    "                                                  config[\"k\"], \n",
    "                                                  lifespan)\n",
    "\n",
    "    outcome = [simulate(config, steps) for _ in range(nsims)]\n",
    "    dump(outcome, fname)\n",
    "    \n",
    "    if itr % max(40, int(size_cross / 10)+1):\n",
    "        progress(itr, size_cross, t_start)\n",
    "\n",
    "print(\"Total time: {:.2f} seconds\".format(time.time() - t_start))"
   ]
  },
  {
   "cell_type": "code",
   "execution_count": null,
   "metadata": {
    "collapsed": true
   },
   "outputs": [],
   "source": []
  }
 ],
 "metadata": {
  "kernelspec": {
   "display_name": "Python 3",
   "language": "python",
   "name": "python3"
  },
  "language_info": {
   "codemirror_mode": {
    "name": "ipython",
    "version": 3
   },
   "file_extension": ".py",
   "mimetype": "text/x-python",
   "name": "python",
   "nbconvert_exporter": "python",
   "pygments_lexer": "ipython3",
   "version": "3.5.2"
  }
 },
 "nbformat": 4,
 "nbformat_minor": 0
}
