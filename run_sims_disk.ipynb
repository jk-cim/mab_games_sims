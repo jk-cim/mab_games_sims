{
 "cells": [
  {
   "cell_type": "code",
   "execution_count": null,
   "metadata": {
    "collapsed": false
   },
   "outputs": [],
   "source": [
    "import itertools\n",
    "import math\n",
    "import pickle\n",
    "import time\n",
    "\n",
    "from simulation import simulate\n",
    "from algs import *\n",
    "from payoff import *\n",
    "from plotting import *\n",
    "from util import *\n",
    "\n",
    "import toyplot as tp"
   ]
  },
  {
   "cell_type": "code",
   "execution_count": null,
   "metadata": {
    "collapsed": true
   },
   "outputs": [],
   "source": [
    "steps = 2000\n",
    "narms = 2\n",
    "nsims = 4\n",
    "\n",
    "strategies = [ucb]\n",
    "nagents = [2000, 500, 100, 50]\n",
    "lifespans = [5, 10, 20, 50, 200]"
   ]
  },
  {
   "cell_type": "markdown",
   "metadata": {},
   "source": [
    "# Linear-Linear positive:\n",
    "\n",
    "\n",
    "$$ Q(\\theta, f) = \\frac{\\theta + f}{2} $$"
   ]
  },
  {
   "cell_type": "code",
   "execution_count": null,
   "metadata": {
    "collapsed": false,
    "scrolled": false
   },
   "outputs": [],
   "source": [
    "size_cross = len(strategies) * len(nagents) * len(lifespans)\n",
    "t_start = time.time()\n",
    "print(\"Starting {} simulations\".format(size_cross))\n",
    "\n",
    "for itr, (strategy, nagent, lifespan) in enumerate(itertools.product(strategies, nagents, lifespans)):\n",
    "    config = {\"k\": narms, \n",
    "              \"types\": [(1, 1), (1, 1)],\n",
    "              \"nagents\": nagent, \n",
    "              \"beta\": lifespan_to_beta(lifespan), \n",
    "              \"strategy\": strategy, \n",
    "              \"payoff\": linear_linear_pos}\n",
    "\n",
    "    fname = \"linlin_pos_S{}_A{}_K{}_LS{}\".format(config[\"strategy\"].__name__, \n",
    "                                                config[\"nagents\"], \n",
    "                                                config[\"k\"], \n",
    "                                                lifespan)\n",
    "\n",
    "    outcome = [simulate(config, steps) for _ in range(nsims)]\n",
    "    dump(outcome, fname)\n",
    "    \n",
    "    if itr % max(40, int(size_cross / 10)+1):\n",
    "        progress(itr, size_cross, t_start)\n",
    "\n",
    "print(\"Total time: {:.2f} seconds\".format(time.time() - t_start))"
   ]
  },
  {
   "cell_type": "markdown",
   "metadata": {},
   "source": [
    "# Negative externalities\n",
    "\n",
    "$$ Q(\\theta, f) = \\frac{\\theta}{1+Lf}$$"
   ]
  },
  {
   "cell_type": "code",
   "execution_count": null,
   "metadata": {
    "collapsed": true
   },
   "outputs": [],
   "source": [
    "Ls = [0.2, 1, 3, 7, 20]"
   ]
  },
  {
   "cell_type": "code",
   "execution_count": null,
   "metadata": {
    "collapsed": false
   },
   "outputs": [],
   "source": [
    "size_cross = len(Ls) * len(strategies) * len(lifespans) * len(nagents)\n",
    "steps = 2000\n",
    "t_start = time.time()\n",
    "print(\"Starting {} simulations\".format(size_cross))\n",
    "\n",
    "for itr, (L, strategy, lifespan, nagent) in enumerate(itertools.product(Ls, strategies, lifespans, nagents)):\n",
    "    config = {\"k\": narms, \n",
    "              \"types\": [(3, 1), (1, 3)],\n",
    "              \"nagents\": nagent, \n",
    "              \"beta\": lifespan_to_beta(lifespan), \n",
    "              \"strategy\": strategy, \n",
    "              \"payoff\": create_neg_externatilities(L)}\n",
    "\n",
    "    fname = \"neg_ext_L{}_S{}_A{}_K{}_LS{}\".format(int(10*L),\n",
    "                                                  config[\"strategy\"].__name__, \n",
    "                                                  config[\"nagents\"], \n",
    "                                                  config[\"k\"], \n",
    "                                                  lifespan)\n",
    "\n",
    "    outcome = [simulate(config, steps) for _ in range(nsims)]\n",
    "    dump(outcome, fname)\n",
    "    \n",
    "    if itr % max(40, int(size_cross / 10)+1):\n",
    "        progress(itr, size_cross, t_start)\n",
    "\n",
    "print(\"Total time: {:.2f} seconds\".format(time.time() - t_start))"
   ]
  },
  {
   "cell_type": "markdown",
   "metadata": {},
   "source": [
    "# Positive externalities"
   ]
  },
  {
   "cell_type": "code",
   "execution_count": null,
   "metadata": {
    "collapsed": false
   },
   "outputs": [],
   "source": [
    "size_cross = len(strategies) * len(nagents) * len(lifespans)\n",
    "t_start = time.time()\n",
    "print(\"Starting {} simulations\".format(size_cross))\n",
    "\n",
    "for itr, (strategy, nagent, lifespan) in enumerate(itertools.product(strategies, nagents, lifespans)):\n",
    "    config = {\"k\": narms, \n",
    "              \"types\": [(1, 1), (1, 1)],\n",
    "              \"nagents\": nagent, \n",
    "              \"beta\": lifespan_to_beta(lifespan), \n",
    "              \"strategy\": strategy, \n",
    "              \"payoff\": pos_externalities}\n",
    "\n",
    "    fname = \"pos_ext_S{}_A{}_K{}_LS{}\".format(config[\"strategy\"].__name__, \n",
    "                                                config[\"nagents\"], \n",
    "                                                config[\"k\"], \n",
    "                                                lifespan)\n",
    "\n",
    "    outcome = [simulate(config, steps) for _ in range(nsims)]\n",
    "    dump(outcome, fname)\n",
    "    \n",
    "    if itr % max(40, int(size_cross / 10)+1):\n",
    "        progress(itr, size_cross, t_start)\n",
    "\n",
    "print(\"Total time: {:.2f} seconds\".format(time.time() - t_start))"
   ]
  },
  {
   "cell_type": "markdown",
   "metadata": {},
   "source": [
    "# Coordination game"
   ]
  },
  {
   "cell_type": "code",
   "execution_count": null,
   "metadata": {
    "collapsed": true
   },
   "outputs": [],
   "source": [
    "gammas = [0.2, 0.5, 0.8]"
   ]
  },
  {
   "cell_type": "code",
   "execution_count": null,
   "metadata": {
    "collapsed": false
   },
   "outputs": [],
   "source": [
    "size_cross = len(gammas) * len(strategies) * len(nagents) * len(lifespans)\n",
    "t_start = time.time()\n",
    "print(\"Starting {} simulations\".format(size_cross))\n",
    "\n",
    "for itr, (gamma, strategy, nagent, lifespan) in enumerate(itertools.product(gammas, strategies, nagents, lifespans)):\n",
    "    config = {\"k\": narms, \n",
    "              \"types\": [(1, 1), (1, 1)],\n",
    "              \"nagents\": nagent, \n",
    "              \"beta\": lifespan_to_beta(lifespan), \n",
    "              \"strategy\": strategy, \n",
    "              \"payoff\": create_coord_game(gamma)}\n",
    "\n",
    "    fname = \"coordgame_G{}_S{}_A{}_K{}_LS{}\".format(int(gamma*100),\n",
    "                                                  config[\"strategy\"].__name__, \n",
    "                                                  config[\"nagents\"], \n",
    "                                                  config[\"k\"], \n",
    "                                                  lifespan)\n",
    "\n",
    "    outcome = [simulate(config, steps) for _ in range(nsims)]\n",
    "    dump(outcome, fname)\n",
    "    \n",
    "    if itr % max(40, int(size_cross / 10)+1):\n",
    "        progress(itr, size_cross, t_start)\n",
    "\n",
    "print(\"Total time: {:.2f} seconds\".format(time.time() - t_start))"
   ]
  }
 ],
 "metadata": {
  "kernelspec": {
   "display_name": "Python 3",
   "language": "python",
   "name": "python3"
  },
  "language_info": {
   "codemirror_mode": {
    "name": "ipython",
    "version": 3
   },
   "file_extension": ".py",
   "mimetype": "text/x-python",
   "name": "python",
   "nbconvert_exporter": "python",
   "pygments_lexer": "ipython3",
   "version": "3.5.2"
  }
 },
 "nbformat": 4,
 "nbformat_minor": 0
}
